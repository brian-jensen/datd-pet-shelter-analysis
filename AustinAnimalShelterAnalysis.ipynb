{
 "cells": [
  {
   "cell_type": "code",
   "execution_count": 25,
   "metadata": {},
   "outputs": [],
   "source": [
    "import pandas as pd\n",
    "# Austin Animal Center Shelter Intakes and Outcomes 2013-2018\n",
    "aac_in_out = pd.read_csv('./data/aac_intakes_outcomes.csv')\n",
    "aac_in = pd.read_csv('./data/aac_intakes.csv')\n",
    "aac_out = pd.read_csv('./data/aac_outcomes.csv')"
   ]
  },
  {
   "cell_type": "markdown",
   "metadata": {},
   "source": [
    "<style>\n",
    "    * {\n",
    "      margin: 0;\n",
    "      padding: 0;\n",
    "      box-sizing: border-box;\n",
    "    }\n",
    "    small {\n",
    "      font-size: 10px;\n",
    "    }\n",
    "    h3 {\n",
    "      margin-bottom: 5px;\n",
    "    }\n",
    "    p {\n",
    "      font-size: 14px;\n",
    "    }\n",
    "</style>\n",
    "\n",
    "<small>Found Pets - Meets 1/1</small>\n",
    "### Is there an area where more pets are found?\n",
    "\n",
    "\n",
    "I filtered the `aac_in` **DataFrame** to only include rows where the `found_location` column contains the substring `' in '`. The resulting filtered **DataFrame** is then used to calculate the count of each unique value in the `found_location` column. I then returned the top five values."
   ]
  },
  {
   "cell_type": "code",
   "execution_count": 26,
   "metadata": {},
   "outputs": [
    {
     "data": {
      "text/plain": [
       "found_location\n",
       "7201 Levander Loop in Austin (TX)     517\n",
       "4434 Frontier Trl in Austin (TX)      163\n",
       "124 W Anderson Ln in Austin (TX)      153\n",
       "12034 Research Blvd in Austin (TX)     98\n",
       "1156 W Cesar Chavez in Austin (TX)     98\n",
       "Name: count, dtype: int64"
      ]
     },
     "execution_count": 26,
     "metadata": {},
     "output_type": "execute_result"
    }
   ],
   "source": [
    "aac_in[aac_in['found_location'].str.contains(' in ')].value_counts('found_location').head()"
   ]
  },
  {
   "cell_type": "markdown",
   "metadata": {},
   "source": [
    "<style>\n",
    "    * {\n",
    "      margin: 0;\n",
    "      padding: 0;\n",
    "      box-sizing: border-box;\n",
    "    }\n",
    "    small {\n",
    "      font-size: 10px;\n",
    "    }\n",
    "    h3 {\n",
    "      margin-bottom: 5px;\n",
    "    }\n",
    "    p {\n",
    "      font-size: 14px;\n",
    "    }\n",
    "</style>\n",
    "\n",
    "<small>Found Pets - Exceeds 1/2</small>\n",
    "### How many animals in the shelter are repeats?\n",
    "\n",
    "Using the `animal_id` column, I counted the number of animals that appear more than once in the `aac_in` **DataFrame** and assigned the results of that Boolean **Series**, to the `repeat_animals` variable. Then, I calculated the total sum of the `repeat_animals` **Series**.<br><br>\n",
    "\n"
   ]
  },
  {
   "cell_type": "code",
   "execution_count": 27,
   "metadata": {},
   "outputs": [
    {
     "data": {
      "text/plain": [
       "6154"
      ]
     },
     "execution_count": 27,
     "metadata": {},
     "output_type": "execute_result"
    }
   ],
   "source": [
    "repeat_animals = aac_in.animal_id.value_counts() > 1\n",
    "repeat_animals.sum()"
   ]
  },
  {
   "cell_type": "markdown",
   "metadata": {},
   "source": [
    "<style>\n",
    "    * {\n",
    "      margin: 0;\n",
    "      padding: 0;\n",
    "      box-sizing: border-box;\n",
    "    }\n",
    "    small {\n",
    "      font-size: 10px;\n",
    "    }\n",
    "    h3 {\n",
    "      margin-bottom: 5px;\n",
    "    }\n",
    "    p {\n",
    "      font-size: 14px;\n",
    "    }\n",
    "</style>\n",
    "\n",
    "<small>Found Pets - Exceeds 2/2</small>\n",
    "### Which animal was returned to the shelter the most?\n",
    "\n",
    "I used the `repeat_animals` Boolean **Series** generated in the previous code block to identify the animal ID that appears most frequently in the `aac_in` **DataFrame**. I then used the `.index[0]` method to retrieve the animal ID as a string, and assigned it to the `most_repeat_animals` variable. The `most_repeat_animals` animal ID string is then used to filter the `aac_in` **DataFrame**. The resulting filtered **DataFrame** is then subsetted to only include the animal_id, name, and breed columns and the first row, for better data presentation."
   ]
  },
  {
   "cell_type": "code",
   "execution_count": 28,
   "metadata": {},
   "outputs": [
    {
     "data": {
      "text/html": [
       "<div>\n",
       "<style scoped>\n",
       "    .dataframe tbody tr th:only-of-type {\n",
       "        vertical-align: middle;\n",
       "    }\n",
       "\n",
       "    .dataframe tbody tr th {\n",
       "        vertical-align: top;\n",
       "    }\n",
       "\n",
       "    .dataframe thead th {\n",
       "        text-align: right;\n",
       "    }\n",
       "</style>\n",
       "<table border=\"1\" class=\"dataframe\">\n",
       "  <thead>\n",
       "    <tr style=\"text-align: right;\">\n",
       "      <th></th>\n",
       "      <th>name</th>\n",
       "      <th>breed</th>\n",
       "    </tr>\n",
       "    <tr>\n",
       "      <th>animal_id</th>\n",
       "      <th></th>\n",
       "      <th></th>\n",
       "    </tr>\n",
       "  </thead>\n",
       "  <tbody>\n",
       "    <tr>\n",
       "      <th>A721033</th>\n",
       "      <td>Lil Bit</td>\n",
       "      <td>Rat Terrier Mix</td>\n",
       "    </tr>\n",
       "  </tbody>\n",
       "</table>\n",
       "</div>"
      ],
      "text/plain": [
       "              name            breed\n",
       "animal_id                          \n",
       "A721033    Lil Bit  Rat Terrier Mix"
      ]
     },
     "execution_count": 28,
     "metadata": {},
     "output_type": "execute_result"
    }
   ],
   "source": [
    "most_repeat_animal = repeat_animals.head(1).index[0]\n",
    "aac_in[aac_in['animal_id'] == most_repeat_animal][['animal_id','name', 'breed']].set_index('animal_id').head(1)"
   ]
  },
  {
   "cell_type": "markdown",
   "metadata": {},
   "source": [
    "<style>\n",
    "    img {\n",
    "      margin: 0;\n",
    "      max-width: 15%;\n",
    "    }\n",
    "</style>\n",
    "\n",
    "![Lil Bit](img/lil_bit.png)"
   ]
  },
  {
   "cell_type": "markdown",
   "metadata": {},
   "source": [
    "<style>\n",
    "    * {\n",
    "      margin: 0;\n",
    "      padding: 0;\n",
    "      box-sizing: border-box;\n",
    "    }\n",
    "    small {\n",
    "      font-size: 10px;\n",
    "    }\n",
    "    h3 {\n",
    "      margin-bottom: 5px;\n",
    "    }\n",
    "    p {\n",
    "      font-size: 14px;\n",
    "    }\n",
    "</style>\n",
    "\n",
    "<small>Average Found Pets - Meets 1/2</small>\n",
    "### What is the average number of pets found in a month in the year 2015?\n",
    "\n",
    "First, I converted the `datetime` column in the `aac_in` **DataFrame** into a Pandas `datetime64` dtype. Then I created a new **DataFrame** named `pets_2015` that contains only the 2015 intake records copied from `aac_in`. Then, I added a new column `intake_month` to it that contains each month of the 2015 intakes, formatted to show the abbreviated month and the year. Next, I counted the amount of pets found in each month. Finally, I calculated the average number of pets found in a month in 2015 and rounded it to the nearest whole number."
   ]
  },
  {
   "cell_type": "code",
   "execution_count": 29,
   "metadata": {},
   "outputs": [
    {
     "data": {
      "text/plain": [
       "1559"
      ]
     },
     "execution_count": 29,
     "metadata": {},
     "output_type": "execute_result"
    }
   ],
   "source": [
    "aac_in['datetime'] = pd.to_datetime(aac_in['datetime'])\n",
    "pets_2015 = aac_in[aac_in['datetime'].dt.year == 2015].copy()\n",
    "pets_2015['intake_month'] = pets_2015['datetime'].dt.strftime('%b %Y')\n",
    "pets_2015_monthly =  pets_2015['intake_month'].value_counts()\n",
    "pets_2015_monthly_avg = pets_2015_monthly.mean()\n",
    "round(pets_2015_monthly_avg)"
   ]
  },
  {
   "cell_type": "markdown",
   "metadata": {},
   "source": [
    "<style>\n",
    "    * {\n",
    "      margin: 0;\n",
    "      padding: 0;\n",
    "      box-sizing: border-box;\n",
    "    }\n",
    "    small {\n",
    "      font-size: 10px;\n",
    "    }\n",
    "    h3 {\n",
    "      margin-bottom: 5px;\n",
    "    }\n",
    "    p {\n",
    "      font-size: 14px;\n",
    "    }\n",
    "</style>\n",
    "\n",
    "<small>Average Found Pets - Meets 2/2</small>\n",
    "### Are there months where there is a higher number of animals found?\n",
    "\n",
    "I filtered the `pets_2015_monthly` **Series** from the code block above to only include months where the count of intakes is greater than the average number of monthly intakes for 2015."
   ]
  },
  {
   "cell_type": "code",
   "execution_count": 30,
   "metadata": {},
   "outputs": [
    {
     "data": {
      "text/plain": [
       "intake_month\n",
       "Jun 2015    2189\n",
       "May 2015    2094\n",
       "Oct 2015    1740\n",
       "Aug 2015    1718\n",
       "Jul 2015    1635\n",
       "Sep 2015    1591\n",
       "Name: count, dtype: int64"
      ]
     },
     "execution_count": 30,
     "metadata": {},
     "output_type": "execute_result"
    }
   ],
   "source": [
    "pets_2015_monthly[pets_2015_monthly > pets_2015_monthly_avg]"
   ]
  },
  {
   "cell_type": "markdown",
   "metadata": {},
   "source": [
    "<style>\n",
    "    * {\n",
    "      margin: 0;\n",
    "      padding: 0;\n",
    "      box-sizing: border-box;\n",
    "    }\n",
    "    small {\n",
    "      font-size: 10px;\n",
    "    }\n",
    "    h3 {\n",
    "      margin-bottom: 5px;\n",
    "    }\n",
    "    p {\n",
    "      font-size: 14px;\n",
    "    }\n",
    "</style>\n",
    "\n",
    "<small>Ratio of Incoming vs. Outgoing - Meets 1/1</small>\n",
    "### What is the ratio of incoming pets vs. adopted pets?\n",
    "\n",
    "First, I calculated the sum of all unique animal IDs in the `aac_in` **DataFrame**. Then, I calculated the sum of all of the Adopted animals in the `outcome_type` column of the `aac_out` **DataFrame**. Finally, I divided the sum of the adopted animals by the sum of the incoming animals to get the ratio of adopted animals to incoming animals."
   ]
  },
  {
   "cell_type": "code",
   "execution_count": 31,
   "metadata": {},
   "outputs": [
    {
     "data": {
      "text/plain": [
       "2.34"
      ]
     },
     "execution_count": 31,
     "metadata": {},
     "output_type": "execute_result"
    }
   ],
   "source": [
    "animal_intakes = aac_in.animal_id.value_counts().sum()\n",
    "animals_adopted = aac_out[aac_out['outcome_type'] == 'Adoption'].value_counts('outcome_type').values[0]\n",
    "round(animal_intakes / animals_adopted, 2)"
   ]
  },
  {
   "cell_type": "markdown",
   "metadata": {},
   "source": [
    "<style>\n",
    "    * {\n",
    "      margin: 0;\n",
    "      padding: 0;\n",
    "      box-sizing: border-box;\n",
    "    }\n",
    "    small {\n",
    "      font-size: 10px;\n",
    "    }\n",
    "    h3 {\n",
    "      margin-bottom: 5px;\n",
    "    }\n",
    "    p {\n",
    "      font-size: 14px;\n",
    "    }\n",
    "</style>\n",
    "\n",
    "<small>Animal Distribution - Meets 1/1</small>\n",
    "### What is the distribution of the types of animals in the shelter?\n",
    "I counted the total number of animals by type in the `animal_type` column of the `aac_in` **DataFrame**."
   ]
  },
  {
   "cell_type": "code",
   "execution_count": 32,
   "metadata": {},
   "outputs": [
    {
     "data": {
      "text/plain": [
       "animal_type\n",
       "Dog          45743\n",
       "Cat          29659\n",
       "Other         4434\n",
       "Bird           342\n",
       "Livestock        9\n",
       "Name: count, dtype: int64"
      ]
     },
     "execution_count": 32,
     "metadata": {},
     "output_type": "execute_result"
    }
   ],
   "source": [
    "aac_in.animal_type.value_counts()"
   ]
  }
 ],
 "metadata": {
  "kernelspec": {
   "display_name": "Python 3",
   "language": "python",
   "name": "python3"
  },
  "language_info": {
   "codemirror_mode": {
    "name": "ipython",
    "version": 3
   },
   "file_extension": ".py",
   "mimetype": "text/x-python",
   "name": "python",
   "nbconvert_exporter": "python",
   "pygments_lexer": "ipython3",
   "version": "3.11.4"
  },
  "orig_nbformat": 4
 },
 "nbformat": 4,
 "nbformat_minor": 2
}
