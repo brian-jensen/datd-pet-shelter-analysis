{
 "cells": [
  {
   "cell_type": "code",
   "execution_count": 71,
   "metadata": {},
   "outputs": [],
   "source": [
    "import pandas as pd\n",
    "# Austin Animal Center Shelter Intakes and Outcomes 2013-2018\n",
    "aac_in = pd.read_csv('./data/aac_intakes.csv')\n",
    "aac_out = pd.read_csv('./data/aac_outcomes.csv')"
   ]
  },
  {
   "cell_type": "markdown",
   "metadata": {},
   "source": [
    "<style>\n",
    "    * {\n",
    "      margin: 0;\n",
    "      padding: 0;\n",
    "      box-sizing: border-box;\n",
    "    }\n",
    "    small {\n",
    "      font-size: 10px;\n",
    "    }\n",
    "    h3 {\n",
    "      margin-bottom: 5px;\n",
    "    }\n",
    "    p {\n",
    "      font-size: 14px;\n",
    "    }\n",
    "</style>\n",
    "\n",
    "<small>Found Pets - Meets 1/1</small>\n",
    "### Is there an area where more pets are found?\n",
    "\n",
    "\n",
    "I filtered the `aac_in` **DataFrame** to only include rows where the `found_location` column contains the substring `' in '`. The resulting filtered **DataFrame** is then used to calculate the count of each unique value in the `found_location` column. I then returned the top five values."
   ]
  },
  {
   "cell_type": "code",
   "execution_count": 72,
   "metadata": {},
   "outputs": [
    {
     "data": {
      "text/plain": [
       "found_location\n",
       "7201 Levander Loop in Austin (TX)     517\n",
       "4434 Frontier Trl in Austin (TX)      163\n",
       "124 W Anderson Ln in Austin (TX)      153\n",
       "12034 Research Blvd in Austin (TX)     98\n",
       "1156 W Cesar Chavez in Austin (TX)     98\n",
       "Name: count, dtype: int64"
      ]
     },
     "execution_count": 72,
     "metadata": {},
     "output_type": "execute_result"
    }
   ],
   "source": [
    "aac_in[aac_in['found_location'].str.contains(' in ')].value_counts('found_location').head()"
   ]
  },
  {
   "cell_type": "markdown",
   "metadata": {},
   "source": [
    "<style>\n",
    "    * {\n",
    "      margin: 0;\n",
    "      padding: 0;\n",
    "      box-sizing: border-box;\n",
    "    }\n",
    "    small {\n",
    "      font-size: 10px;\n",
    "    }\n",
    "    h3 {\n",
    "      margin-bottom: 5px;\n",
    "    }\n",
    "    p {\n",
    "      font-size: 14px;\n",
    "    }\n",
    "</style>\n",
    "\n",
    "<small>Found Pets - Exceeds 1/2</small>\n",
    "### How many animals in the shelter are repeats?\n",
    "\n",
    "Using the `animal_id` column, I counted the number of animals that appear more than once in the `aac_in` **DataFrame** and assigned the results of that Boolean **Series**, to the `repeat_animals` variable. Then, I calculated the total sum of the `repeat_animals` **Series**.<br><br>\n",
    "\n"
   ]
  },
  {
   "cell_type": "code",
   "execution_count": 73,
   "metadata": {},
   "outputs": [
    {
     "data": {
      "text/plain": [
       "6154"
      ]
     },
     "execution_count": 73,
     "metadata": {},
     "output_type": "execute_result"
    }
   ],
   "source": [
    "repeat_animals = aac_in.animal_id.value_counts() > 1\n",
    "repeat_animals.sum()"
   ]
  },
  {
   "cell_type": "markdown",
   "metadata": {},
   "source": [
    "<style>\n",
    "    * {\n",
    "      margin: 0;\n",
    "      padding: 0;\n",
    "      box-sizing: border-box;\n",
    "    }\n",
    "    small {\n",
    "      font-size: 10px;\n",
    "    }\n",
    "    h3 {\n",
    "      margin-bottom: 5px;\n",
    "    }\n",
    "    p {\n",
    "      font-size: 14px;\n",
    "    }\n",
    "</style>\n",
    "\n",
    "<small>Found Pets - Exceeds 2/2</small>\n",
    "### Which animal was returned to the shelter the most?\n",
    "\n",
    "I used the `repeat_animals` Boolean **Series** generated in the previous code block to identify the animal ID that appears most frequently in the `aac_in` **DataFrame**. I then used the `.index[0]` method to retrieve the animal ID as a string, and assigned it to the `most_repeat_animals` variable. The `most_repeat_animals` animal ID string is then used to filter the `aac_in` **DataFrame**. The resulting filtered **DataFrame** is then subsetted to only include the animal_id, name, and breed columns and the first row, for better data presentation."
   ]
  },
  {
   "cell_type": "code",
   "execution_count": 74,
   "metadata": {},
   "outputs": [
    {
     "data": {
      "text/html": [
       "<div>\n",
       "<style scoped>\n",
       "    .dataframe tbody tr th:only-of-type {\n",
       "        vertical-align: middle;\n",
       "    }\n",
       "\n",
       "    .dataframe tbody tr th {\n",
       "        vertical-align: top;\n",
       "    }\n",
       "\n",
       "    .dataframe thead th {\n",
       "        text-align: right;\n",
       "    }\n",
       "</style>\n",
       "<table border=\"1\" class=\"dataframe\">\n",
       "  <thead>\n",
       "    <tr style=\"text-align: right;\">\n",
       "      <th></th>\n",
       "      <th>name</th>\n",
       "      <th>breed</th>\n",
       "    </tr>\n",
       "    <tr>\n",
       "      <th>animal_id</th>\n",
       "      <th></th>\n",
       "      <th></th>\n",
       "    </tr>\n",
       "  </thead>\n",
       "  <tbody>\n",
       "    <tr>\n",
       "      <th>A721033</th>\n",
       "      <td>Lil Bit</td>\n",
       "      <td>Rat Terrier Mix</td>\n",
       "    </tr>\n",
       "  </tbody>\n",
       "</table>\n",
       "</div>"
      ],
      "text/plain": [
       "              name            breed\n",
       "animal_id                          \n",
       "A721033    Lil Bit  Rat Terrier Mix"
      ]
     },
     "execution_count": 74,
     "metadata": {},
     "output_type": "execute_result"
    }
   ],
   "source": [
    "most_repeat_animal = repeat_animals.head(1).index[0]\n",
    "aac_in[aac_in['animal_id'] == most_repeat_animal][['animal_id','name', 'breed']].set_index('animal_id').head(1)"
   ]
  },
  {
   "cell_type": "markdown",
   "metadata": {},
   "source": [
    "<style>\n",
    "    img {\n",
    "      margin: 0;\n",
    "      max-width: 15%;\n",
    "    }\n",
    "</style>\n",
    "\n",
    "![Lil Bit](img/lil_bit.png)"
   ]
  },
  {
   "cell_type": "markdown",
   "metadata": {},
   "source": [
    "<style>\n",
    "    * {\n",
    "      margin: 0;\n",
    "      padding: 0;\n",
    "      box-sizing: border-box;\n",
    "    }\n",
    "    small {\n",
    "      font-size: 10px;\n",
    "    }\n",
    "    h3 {\n",
    "      margin-bottom: 5px;\n",
    "    }\n",
    "    p {\n",
    "      font-size: 14px;\n",
    "    }\n",
    "</style>\n",
    "\n",
    "<small>Average Found Pets - Meets 1/2</small>\n",
    "### What is the average number of pets found in a month in the year 2015?\n",
    "\n",
    "First, I converted the `datetime` column in the `aac_in` **DataFrame** into a Pandas `datetime64` dtype. Then I created a new **DataFrame** named `pets_2015` that contains only the 2015 intake records copied from `aac_in`. Then, I added a new column `intake_month` to it that contains each month of the 2015 intakes, formatted to show the abbreviated month and the year. Next, I counted the amount of pets found in each month. Finally, I calculated the average number of pets found in a month in 2015 and rounded it to the nearest whole number."
   ]
  },
  {
   "cell_type": "code",
   "execution_count": 75,
   "metadata": {},
   "outputs": [
    {
     "data": {
      "text/plain": [
       "1559"
      ]
     },
     "execution_count": 75,
     "metadata": {},
     "output_type": "execute_result"
    }
   ],
   "source": [
    "aac_in['datetime'] = pd.to_datetime(aac_in['datetime'])\n",
    "pets_2015 = aac_in[aac_in['datetime'].dt.year == 2015].copy()\n",
    "pets_2015['intake_month'] = pets_2015['datetime'].dt.strftime('%b %Y')\n",
    "pets_2015_monthly =  pets_2015['intake_month'].value_counts()\n",
    "pets_2015_monthly_avg = pets_2015_monthly.mean()\n",
    "round(pets_2015_monthly_avg)"
   ]
  },
  {
   "cell_type": "markdown",
   "metadata": {},
   "source": [
    "<style>\n",
    "    * {\n",
    "      margin: 0;\n",
    "      padding: 0;\n",
    "      box-sizing: border-box;\n",
    "    }\n",
    "    small {\n",
    "      font-size: 10px;\n",
    "    }\n",
    "    h3 {\n",
    "      margin-bottom: 5px;\n",
    "    }\n",
    "    p {\n",
    "      font-size: 14px;\n",
    "    }\n",
    "</style>\n",
    "\n",
    "<small>Average Found Pets - Meets 2/2</small>\n",
    "### Are there months where there is a higher number of animals found?\n",
    "\n",
    "I filtered the `pets_2015_monthly` **Series** from the code block above to only include months where the count of intakes is greater than the average number of monthly intakes for 2015."
   ]
  },
  {
   "cell_type": "code",
   "execution_count": 76,
   "metadata": {},
   "outputs": [
    {
     "data": {
      "text/plain": [
       "intake_month\n",
       "Jun 2015    2189\n",
       "May 2015    2094\n",
       "Oct 2015    1740\n",
       "Aug 2015    1718\n",
       "Jul 2015    1635\n",
       "Sep 2015    1591\n",
       "Name: count, dtype: int64"
      ]
     },
     "execution_count": 76,
     "metadata": {},
     "output_type": "execute_result"
    }
   ],
   "source": [
    "pets_2015_monthly[pets_2015_monthly > pets_2015_monthly_avg]"
   ]
  },
  {
   "cell_type": "markdown",
   "metadata": {},
   "source": [
    "<style>\n",
    "    * {\n",
    "      margin: 0;\n",
    "      padding: 0;\n",
    "      box-sizing: border-box;\n",
    "    }\n",
    "    small {\n",
    "      font-size: 10px;\n",
    "    }\n",
    "    h3 {\n",
    "      margin-bottom: 5px;\n",
    "    }\n",
    "    p {\n",
    "      font-size: 14px;\n",
    "    }\n",
    "</style>\n",
    "\n",
    "<small>Ratio of Incoming vs. Outgoing - Meets 1/1</small>\n",
    "### What is the ratio of incoming pets vs. adopted pets?\n",
    "\n",
    "First, I calculated the sum of all unique animal IDs in the `aac_in` **DataFrame**. Then, I calculated the sum of all of the Adopted animals in the `outcome_type` column of the `aac_out` **DataFrame**. Finally, I divided the sum of the adopted animals by the sum of the incoming animals to get the ratio of adopted animals to incoming animals."
   ]
  },
  {
   "cell_type": "code",
   "execution_count": 77,
   "metadata": {},
   "outputs": [
    {
     "data": {
      "text/plain": [
       "2.34"
      ]
     },
     "execution_count": 77,
     "metadata": {},
     "output_type": "execute_result"
    }
   ],
   "source": [
    "animal_intakes = aac_in.animal_id.value_counts().sum()\n",
    "animals_adopted = aac_out[aac_out['outcome_type'] == 'Adoption'].value_counts('outcome_type').values[0]\n",
    "round(animal_intakes / animals_adopted, 2)"
   ]
  },
  {
   "cell_type": "markdown",
   "metadata": {},
   "source": [
    "<style>\n",
    "    * {\n",
    "      margin: 0;\n",
    "      padding: 0;\n",
    "      box-sizing: border-box;\n",
    "    }\n",
    "    small {\n",
    "      font-size: 10px;\n",
    "    }\n",
    "    h3 {\n",
    "      margin-bottom: 5px;\n",
    "    }\n",
    "    p {\n",
    "      font-size: 14px;\n",
    "    }\n",
    "</style>\n",
    "\n",
    "<small>Animal Distribution - Meets 1/1</small>\n",
    "### What is the distribution of the types of animals in the shelter?\n",
    "I counted the total number of animals by type in the `animal_type` column of the `aac_in` **DataFrame**."
   ]
  },
  {
   "cell_type": "code",
   "execution_count": 78,
   "metadata": {},
   "outputs": [
    {
     "data": {
      "text/plain": [
       "animal_type\n",
       "Dog          45743\n",
       "Cat          29659\n",
       "Other         4434\n",
       "Bird           342\n",
       "Livestock        9\n",
       "Name: count, dtype: int64"
      ]
     },
     "execution_count": 78,
     "metadata": {},
     "output_type": "execute_result"
    }
   ],
   "source": [
    "aac_in.animal_type.value_counts()"
   ]
  },
  {
   "cell_type": "markdown",
   "metadata": {},
   "source": [
    "<style>\n",
    "    * {\n",
    "      margin: 0;\n",
    "      padding: 0;\n",
    "      box-sizing: border-box;\n",
    "    }\n",
    "    small {\n",
    "      font-size: 10px;\n",
    "    }\n",
    "    h3 {\n",
    "      margin-bottom: 5px;\n",
    "    }\n",
    "    p {\n",
    "      font-size: 14px;\n",
    "    }\n",
    "</style>\n",
    "\n",
    "<small>Adoption Rates - Meets 1/2</small>\n",
    "### What are the adoption rates for specific breeds?\n",
    "First, I counted all of the dog breeds from the `aac_in` **DataFrame**. Next, I created a **Series** of the top 5 breeds. Next, I counted all of the dogs that were Adopted from the `aac_out` **DataFrame**. Then, I created a **Series** of the top 5 breeds that were adopted and calculated their rates. Finally, I created a new **DataFrame** containing the top 5 breeds and their adoption rates."
   ]
  },
  {
   "cell_type": "code",
   "execution_count": 79,
   "metadata": {},
   "outputs": [
    {
     "name": "stdout",
     "output_type": "stream",
     "text": [
      "                           intake  adopted   rate\n",
      "breed                                            \n",
      "Pit Bull Mix                 6382     2382  37.32\n",
      "Chihuahua Shorthair Mix      4860     2293  47.18\n",
      "German Shepherd Mix          1963      937  47.73\n",
      "Labrador Retriever Mix       4841     2404  49.66\n",
      "Australian Cattle Dog Mix    1105      619  56.02\n"
     ]
    }
   ],
   "source": [
    "total_breed_counts_intake = aac_in[aac_in['animal_type'] == 'Dog']['breed'].value_counts()\n",
    "top_5_total_counts_intake = total_breed_counts_intake.head(5)\n",
    "dog_adoptions = aac_out[(aac_out['animal_type'] == 'Dog') & (aac_out['outcome_type'] == 'Adoption')]\n",
    "breed_counts = dog_adoptions['breed'].value_counts()\n",
    "top_5_breeds = breed_counts.loc[top_5_total_counts_intake.index]\n",
    "adoption_rates_intake = round((top_5_breeds / top_5_total_counts_intake) * 100, 2)\n",
    "top_5_full_adoption_details = pd.DataFrame({\n",
    "    'intake': top_5_total_counts_intake,\n",
    "    'adopted': top_5_breeds,\n",
    "    'rate': adoption_rates_intake\n",
    "}).sort_values(by='rate')\n",
    "\n",
    "print(top_5_full_adoption_details)"
   ]
  },
  {
   "cell_type": "markdown",
   "metadata": {},
   "source": [
    "<style>\n",
    "    * {\n",
    "      margin: 0;\n",
    "      padding: 0;\n",
    "      box-sizing: border-box;\n",
    "    }\n",
    "    small {\n",
    "      font-size: 10px;\n",
    "    }\n",
    "    h3 {\n",
    "      margin-bottom: 5px;\n",
    "    }\n",
    "    p {\n",
    "      font-size: 14px;\n",
    "    }\n",
    "</style>\n",
    "\n",
    "<small>Adoption Rates - Meets 2/2</small>\n",
    "### What are the adoption rates for different colorings?\n",
    "First, I counted all of the animal colors from the `aac_in` **DataFrame**. Next, I created a **Series** of the top 5 animal colors. Next, I counted all of the animals that were Adopted from the `aac_out` **DataFrame**. Then, I created a **Series** of the top 5 animal colors that were adopted and calculated their rates. Finally, I created a new **DataFrame** containing the top 5 animal colors and their adoption rates."
   ]
  },
  {
   "cell_type": "code",
   "execution_count": 80,
   "metadata": {},
   "outputs": [
    {
     "name": "stdout",
     "output_type": "stream",
     "text": [
      "             intake  adopted   rate\n",
      "color                              \n",
      "Black/White    8340     3814  45.73\n",
      "Brown Tabby    4487     1914  42.66\n",
      "Black          6710     2757  41.09\n",
      "White          2849     1082  37.98\n",
      "Brown          3618      803  22.19\n"
     ]
    }
   ],
   "source": [
    "total_color_counts_intake = aac_in['color'].value_counts()\n",
    "top_5_total_counts_color_intake = total_color_counts_intake.head(5)\n",
    "color_adoptions = aac_out[aac_out['outcome_type'] == 'Adoption']['color'].value_counts()\n",
    "top_5_color_adoptions = color_adoptions.loc[top_5_total_counts_color_intake.index]\n",
    "adoption_rates_color_intake = round((top_5_color_adoptions / top_5_total_counts_color_intake) * 100, 2)\n",
    "adoption_by_color_details = pd.DataFrame({\n",
    "    'intake': top_5_total_counts_color_intake,\n",
    "    'adopted': top_5_color_adoptions,\n",
    "    'rate': adoption_rates_color_intake\n",
    "}).sort_values(by='rate', ascending=False)\n",
    "\n",
    "print(adoption_by_color_details)"
   ]
  },
  {
   "cell_type": "markdown",
   "metadata": {},
   "source": [
    "<style>\n",
    "    * {\n",
    "      margin: 0;\n",
    "      padding: 0;\n",
    "      box-sizing: border-box;\n",
    "    }\n",
    "    small {\n",
    "      font-size: 10px;\n",
    "    }\n",
    "    h3 {\n",
    "      margin-bottom: 5px;\n",
    "    }\n",
    "    p, li {\n",
    "      font-size: 14px;\n",
    "    }\n",
    "    li {\n",
    "      list-style: none;\n",
    "    }\n",
    "</style>\n",
    "\n",
    "<small>Adoption Rates - Exceeds 1/1</small>\n",
    "### What are the adoption rates for the following age groups?\n",
    "- **baby**: 4 months and less\n",
    "- **young**: 5 months - 2 years\n",
    "- **adult**: 3 years - 10 years\n",
    "- **senior**: 11+ years\n",
    "<br><br>\n",
    "First, I created a copy of the `aac_out` **DataFrame**, so that I could expand additional columns without modifying the existing *DataFrame*. Next, I split the `age_upon_outcome` column into two columns: `age_value` and `age_unit`. Next, I converted the `age_value` column to be to numeric values and represented in number of months. I then created a new column called `age_group` that would categorize the animals into the four age groups mentioned above. Next, I filtered the `outcome_type` column for the Adoption value. I then grouped the data by `age_group` and calculated the percentage of animals that were adopted for each age group."
   ]
  },
  {
   "cell_type": "code",
   "execution_count": 81,
   "metadata": {},
   "outputs": [
    {
     "data": {
      "text/plain": [
       "age_group\n",
       "baby      51.41\n",
       "young     41.94\n",
       "adult     33.67\n",
       "senior    21.23\n",
       "Name: count, dtype: float64"
      ]
     },
     "execution_count": 81,
     "metadata": {},
     "output_type": "execute_result"
    }
   ],
   "source": [
    "aac_out_snapshot = aac_out.copy()\n",
    "\n",
    "aac_out_snapshot[['age_value', 'age_unit']] = aac_out_snapshot['age_upon_outcome'].str.split(' ', expand=True)\n",
    "aac_out_snapshot['age_value'] = pd.to_numeric(aac_out_snapshot['age_value'])\n",
    "\n",
    "\n",
    "def age_to_months(row):\n",
    "    if row['age_unit'] in ['year', 'years']:\n",
    "        return row['age_value'] * 12\n",
    "    elif row['age_unit'] in ['month', 'months']:\n",
    "        return row['age_value']\n",
    "    elif row['age_unit'] in ['week', 'weeks']:\n",
    "        return row['age_value'] / 4.34824\n",
    "    elif row['age_unit'] in ['day', 'days']:\n",
    "        return row['age_value'] / 30.44\n",
    "    else:\n",
    "        return None\n",
    "\n",
    "\n",
    "aac_out_snapshot['age_in_months'] = aac_out_snapshot.apply(age_to_months, axis=1)\n",
    "aac_out_snapshot = aac_out_snapshot.dropna(subset=['age_in_months'])\n",
    "\n",
    "\n",
    "def categorize_age_group(row):\n",
    "    if row['age_in_months'] <= 4:\n",
    "        return 'baby'\n",
    "    elif 5 <= row['age_in_months'] <= 24:\n",
    "        return 'young'\n",
    "    elif 25 <= row['age_in_months'] <= 120:\n",
    "        return 'adult'\n",
    "    elif row['age_in_months'] >= 121:\n",
    "        return 'senior'\n",
    "    else:\n",
    "        return None\n",
    "    \n",
    "\n",
    "aac_out_snapshot['age_group'] = aac_out_snapshot.apply(categorize_age_group, axis=1)\n",
    "adoptions = aac_out_snapshot[aac_out_snapshot['outcome_type'] == 'Adoption']\n",
    "adoption_rates = adoptions['age_group'].value_counts() / aac_out_snapshot['age_group'].value_counts()\n",
    "adoption_rates = adoption_rates * 100\n",
    "adoption_rates = adoption_rates.sort_values(ascending=False)\n",
    "round(adoption_rates, 2)\n"
   ]
  },
  {
   "cell_type": "markdown",
   "metadata": {},
   "source": [
    "<style>\n",
    "    * {\n",
    "      margin: 0;\n",
    "      padding: 0;\n",
    "      box-sizing: border-box;\n",
    "    }\n",
    "    small {\n",
    "      font-size: 10px;\n",
    "    }\n",
    "    h3 {\n",
    "      margin-bottom: 5px;\n",
    "    }\n",
    "    p {\n",
    "      font-size: 14px;\n",
    "    }\n",
    "</style>\n",
    "\n",
    "<small>Spay/Neuter  - Meets 1/1</small>\n",
    "### About how many animals are spayed/neutered each month?\n",
    "First, I converted the `datetime` column in the `aac_in` **DataFrame** into a Pandas `datetime64` dtype. Then, I filled the empty values in the `sex_upon_intake` column of the `aac_in` **DataFrame** with the string \"Unknown\". Next I filtered the `sex_upon_intake` column for results that contained the text \"Intact\". Finally, I grouped the results by month and counted the number of rows in each group to get the number of animals that were spayed/neutered each month and averaged the results for the entire dataset."
   ]
  },
  {
   "cell_type": "code",
   "execution_count": 82,
   "metadata": {},
   "outputs": [
    {
     "data": {
      "text/plain": [
       "914"
      ]
     },
     "execution_count": 82,
     "metadata": {},
     "output_type": "execute_result"
    }
   ],
   "source": [
    "aac_in['datetime'] = pd.to_datetime(aac_in['datetime'])\n",
    "aac_in['sex_upon_intake'] = aac_in['sex_upon_intake'].fillna(\"Unknown\")\n",
    "intact_data = aac_in[aac_in['sex_upon_intake'].str.contains('Intact')]\n",
    "monthly_intact = intact_data.groupby(aac_in['datetime'].dt.to_period(\"M\")).size()\n",
    "round(monthly_intact.mean())"
   ]
  },
  {
   "cell_type": "markdown",
   "metadata": {},
   "source": [
    "<style>\n",
    "    * {\n",
    "      margin: 0;\n",
    "      padding: 0;\n",
    "      box-sizing: border-box;\n",
    "    }\n",
    "    small {\n",
    "      font-size: 10px;\n",
    "    }\n",
    "    h3 {\n",
    "      margin-bottom: 5px;\n",
    "    }\n",
    "    p {\n",
    "      font-size: 14px;\n",
    "    }\n",
    "</style>\n",
    "\n",
    "<small>Spay/Neuter  - Exceeds 1/1</small>\n",
    "### If spay/neuter for a dog costs $100 and a spay/neuter for a cat costs $50, how much did the shelter spend in 2015 on these procedures?\n",
    "First, I filtered out all of results for the year 2015 in the `aac_in` **DataFrame**, where the `sex_upon_intake` column contained the text \"Intact\". Next, I filtered the `animal_type` column if it contained the text `Dog` or `Cat`. Then, I created a new **DataFrame**: `spayed_neutered_2015` with a column called `cost` that contained the cost of the procedure for each row. Finally, I summed the `cost` column to get the total cost of the procedures for 2015 and added a `total` column."
   ]
  },
  {
   "cell_type": "code",
   "execution_count": 83,
   "metadata": {},
   "outputs": [
    {
     "name": "stdout",
     "output_type": "stream",
     "text": [
      "  species    cost   total\n",
      "0     Dog  610000        \n",
      "1     Cat  253250  863250\n"
     ]
    }
   ],
   "source": [
    "intact_2015 = aac_in[(aac_in['datetime'].dt.year == 2015) & (aac_in['sex_upon_intake'].str.contains('Intact'))]\n",
    "intact_dog_count_2015 = intact_2015[intact_2015['animal_type'] == 'Dog'].shape[0]\n",
    "intact_cat_count_2015 = intact_2015[intact_2015['animal_type'] == 'Cat'].shape[0]\n",
    "\n",
    "spayed_neutered_2015 = pd.DataFrame({\n",
    "    'species': ['Dog', 'Cat'],\n",
    "    'cost': [intact_dog_count_2015 * 100, intact_cat_count_2015 * 50]\n",
    "})\n",
    "\n",
    "spayed_neutered_2015['total'] = ['', spayed_neutered_2015['cost'].sum()]\n",
    "\n",
    "print(spayed_neutered_2015)\n",
    "\n"
   ]
  }
 ],
 "metadata": {
  "kernelspec": {
   "display_name": "Python 3",
   "language": "python",
   "name": "python3"
  },
  "language_info": {
   "codemirror_mode": {
    "name": "ipython",
    "version": 3
   },
   "file_extension": ".py",
   "mimetype": "text/x-python",
   "name": "python",
   "nbconvert_exporter": "python",
   "pygments_lexer": "ipython3",
   "version": "3.11.4"
  },
  "orig_nbformat": 4
 },
 "nbformat": 4,
 "nbformat_minor": 2
}
