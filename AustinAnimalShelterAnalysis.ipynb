{
 "cells": [
  {
   "cell_type": "code",
   "execution_count": 178,
   "metadata": {},
   "outputs": [],
   "source": [
    "import pandas as pd\n",
    "# Austin Animal Center Shelter Intakes and Outcomes 2013-2018\n",
    "aac_in_out = pd.read_csv('./data/aac_intakes_outcomes.csv')\n",
    "aac_in = pd.read_csv('./data/aac_intakes.csv')\n",
    "aac_out = pd.read_csv('./data/aac_outcomes.csv')"
   ]
  },
  {
   "cell_type": "markdown",
   "metadata": {},
   "source": [
    "<style>\n",
    "    * {\n",
    "      margin: 0;\n",
    "      padding: 0;\n",
    "      box-sizing: border-box;\n",
    "    }\n",
    "    small {\n",
    "      font-size: 10px;\n",
    "    }\n",
    "    h3 {\n",
    "      margin-bottom: 5px;\n",
    "    }\n",
    "    p {\n",
    "      font-size: 14px;\n",
    "    }\n",
    "</style>\n",
    "\n",
    "<small>Found Pets - Meets 1/1</small>\n",
    "### Is there an area where more pets are found?\n",
    "\n",
    "\n",
    "I counted the number of occurrences of each unique value in the `found_location` column of a Pandas **DataFrame** `aac_in`. The `.value_counts()` method is called on the `found_location` column to generate a **Series** that contains the count of each unique value in the column. The `.head()` method is then called on the resulting **Series** to return the first five rows of the **Series**, which correspond to the five most frequently occurring values in the `found_location` column."
   ]
  },
  {
   "cell_type": "code",
   "execution_count": 179,
   "metadata": {},
   "outputs": [
    {
     "data": {
      "text/plain": [
       "found_location\n",
       "Austin (TX)                          14443\n",
       "Outside Jurisdiction                   948\n",
       "Travis (TX)                            921\n",
       "7201 Levander Loop in Austin (TX)      517\n",
       "Del Valle (TX)                         411\n",
       "Name: count, dtype: int64"
      ]
     },
     "execution_count": 179,
     "metadata": {},
     "output_type": "execute_result"
    }
   ],
   "source": [
    "aac_in['found_location'].value_counts().head()"
   ]
  },
  {
   "cell_type": "markdown",
   "metadata": {},
   "source": [
    "<style>\n",
    "    * {\n",
    "      margin: 0;\n",
    "      padding: 0;\n",
    "      box-sizing: border-box;\n",
    "    }\n",
    "    small {\n",
    "      font-size: 10px;\n",
    "    }\n",
    "    h3 {\n",
    "      margin-bottom: 5px;\n",
    "    }\n",
    "    p {\n",
    "      font-size: 14px;\n",
    "    }\n",
    "</style>\n",
    "\n",
    "<small>Found Pets - Exceeds 1/2</small>\n",
    "### How many animals in the shelter are repeats?\n",
    "\n",
    "I counted the number of animals that appear more than once in a Pandas **DataFrame** called `aac_in`. The `.value_counts()` method is called on the `animal_id` column of the **DataFrame** to generate a **Series** that contains the count of each unique value in the column. The resulting **Series** is then compared to the integer value 1 using the greater than operator `>`. This comparison generates a **Boolean Series** that contains True values for each animal ID that appears more than once in the **DataFrame**, and False values for each animal ID that appear only once.<br><br>\n",
    "\n",
    "The resulting **Boolean Series** is then assigned to the variable `repeat_animals`. The `.sum()` method is then called on this **Boolean Series** to count the number of True values in the Series.\n",
    "\n"
   ]
  },
  {
   "cell_type": "code",
   "execution_count": 180,
   "metadata": {},
   "outputs": [
    {
     "data": {
      "text/plain": [
       "6154"
      ]
     },
     "execution_count": 180,
     "metadata": {},
     "output_type": "execute_result"
    }
   ],
   "source": [
    "repeat_animals = aac_in.animal_id.value_counts() > 1\n",
    "repeat_animals.sum()"
   ]
  },
  {
   "cell_type": "markdown",
   "metadata": {},
   "source": [
    "<style>\n",
    "    * {\n",
    "      margin: 0;\n",
    "      padding: 0;\n",
    "      box-sizing: border-box;\n",
    "    }\n",
    "    small {\n",
    "      font-size: 10px;\n",
    "    }\n",
    "    h3 {\n",
    "      margin-bottom: 5px;\n",
    "    }\n",
    "    p {\n",
    "      font-size: 14px;\n",
    "    }\n",
    "</style>\n",
    "\n",
    "<small>Found Pets - Exceeds 2/2</small>\n",
    "### Which animal was returned to the shelter the most?\n",
    "\n",
    "The `repeat_animals` **Boolean Series** generated in the previous code block identifies the animal ID that appears most frequently in the **DataFrame**. The `.head(1)` method is called on the `repeat_animals` **Series** to return the first row of the Series, which corresponds to the animal ID that appears most frequently in the DataFrame. The `.index[0]` method is called on this row to retrieve the animal ID as a string.<br><br>\n",
    "\n",
    "The resulting animal ID string is then used to filter the **DataFrame** using boolean indexing. Next, I selected only the rows of the **DataFrame** where the `animal_id` column matches `most_repeat_animal`. The resulting filtered **DataFrame** is then subsetted to only include the `animal_id`, `name`, and `breed` columns using double square brackets. The `.set_index('animal_id')` method is then called on this **subsetted DataFrame** to set the `animal_id` column as the index of the **DataFrame**. Finally, the `.head(1)` method is called on this **DataFrame** to return the first row of the **subsetted DataFrame**."
   ]
  },
  {
   "cell_type": "code",
   "execution_count": 181,
   "metadata": {},
   "outputs": [
    {
     "data": {
      "text/html": [
       "<div>\n",
       "<style scoped>\n",
       "    .dataframe tbody tr th:only-of-type {\n",
       "        vertical-align: middle;\n",
       "    }\n",
       "\n",
       "    .dataframe tbody tr th {\n",
       "        vertical-align: top;\n",
       "    }\n",
       "\n",
       "    .dataframe thead th {\n",
       "        text-align: right;\n",
       "    }\n",
       "</style>\n",
       "<table border=\"1\" class=\"dataframe\">\n",
       "  <thead>\n",
       "    <tr style=\"text-align: right;\">\n",
       "      <th></th>\n",
       "      <th>name</th>\n",
       "      <th>breed</th>\n",
       "    </tr>\n",
       "    <tr>\n",
       "      <th>animal_id</th>\n",
       "      <th></th>\n",
       "      <th></th>\n",
       "    </tr>\n",
       "  </thead>\n",
       "  <tbody>\n",
       "    <tr>\n",
       "      <th>A721033</th>\n",
       "      <td>Lil Bit</td>\n",
       "      <td>Rat Terrier Mix</td>\n",
       "    </tr>\n",
       "  </tbody>\n",
       "</table>\n",
       "</div>"
      ],
      "text/plain": [
       "              name            breed\n",
       "animal_id                          \n",
       "A721033    Lil Bit  Rat Terrier Mix"
      ]
     },
     "execution_count": 181,
     "metadata": {},
     "output_type": "execute_result"
    }
   ],
   "source": [
    "most_repeat_animal = repeat_animals.head(1).index[0]\n",
    "aac_in[aac_in['animal_id'] == most_repeat_animal][['animal_id','name', 'breed']].set_index('animal_id').head(1)"
   ]
  }
 ],
 "metadata": {
  "kernelspec": {
   "display_name": "Python 3",
   "language": "python",
   "name": "python3"
  },
  "language_info": {
   "codemirror_mode": {
    "name": "ipython",
    "version": 3
   },
   "file_extension": ".py",
   "mimetype": "text/x-python",
   "name": "python",
   "nbconvert_exporter": "python",
   "pygments_lexer": "ipython3",
   "version": "3.11.4"
  },
  "orig_nbformat": 4
 },
 "nbformat": 4,
 "nbformat_minor": 2
}
