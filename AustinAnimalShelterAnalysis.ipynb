{
 "cells": [
  {
   "cell_type": "code",
   "execution_count": 1,
   "metadata": {},
   "outputs": [],
   "source": [
    "import pandas as pd\n",
    "# Austin Animal Center Shelter Intakes and Outcomes 2013-2018\n",
    "aac_in_out = pd.read_csv('./data/aac_intakes_outcomes.csv')\n",
    "aac_in = pd.read_csv('./data/aac_intakes.csv')\n",
    "aac_out = pd.read_csv('./data/aac_outcomes.csv')"
   ]
  },
  {
   "cell_type": "markdown",
   "metadata": {},
   "source": [
    "<style>\n",
    "    * {\n",
    "      margin: 0;\n",
    "      padding: 0;\n",
    "      box-sizing: border-box;\n",
    "    }\n",
    "    small {\n",
    "      font-size: 10px;\n",
    "    }\n",
    "    h3 {\n",
    "      margin-bottom: 5px;\n",
    "    }\n",
    "</style>\n",
    "\n",
    "<small>Found Pets</small>\n",
    "### Is there an area where more pets are found?\n",
    "\n",
    "\n",
    "Cool story"
   ]
  },
  {
   "cell_type": "code",
   "execution_count": null,
   "metadata": {},
   "outputs": [],
   "source": []
  }
 ],
 "metadata": {
  "kernelspec": {
   "display_name": "Python 3",
   "language": "python",
   "name": "python3"
  },
  "language_info": {
   "codemirror_mode": {
    "name": "ipython",
    "version": 3
   },
   "file_extension": ".py",
   "mimetype": "text/x-python",
   "name": "python",
   "nbconvert_exporter": "python",
   "pygments_lexer": "ipython3",
   "version": "3.11.4"
  },
  "orig_nbformat": 4
 },
 "nbformat": 4,
 "nbformat_minor": 2
}
